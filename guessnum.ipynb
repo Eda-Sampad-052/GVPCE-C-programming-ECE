{
  "nbformat": 4,
  "nbformat_minor": 0,
  "metadata": {
    "colab": {
      "provenance": [],
      "authorship_tag": "ABX9TyOtSJzwePQruMvRG3Nk4T5T",
      "include_colab_link": true
    },
    "kernelspec": {
      "name": "python3",
      "display_name": "Python 3"
    },
    "language_info": {
      "name": "python"
    }
  },
  "cells": [
    {
      "cell_type": "markdown",
      "metadata": {
        "id": "view-in-github",
        "colab_type": "text"
      },
      "source": [
        "<a href=\"https://colab.research.google.com/github/Eda-Sampad-052/GVPCE-C-programming-ECE/blob/main/guessnum.ipynb\" target=\"_parent\"><img src=\"https://colab.research.google.com/assets/colab-badge.svg\" alt=\"Open In Colab\"/></a>"
      ]
    },
    {
      "cell_type": "code",
      "execution_count": null,
      "metadata": {
        "id": "vTz6eHH87I2z"
      },
      "outputs": [],
      "source": [
        "import random\n",
        "\n",
        "print(\"Hi welcome to the game, This is a number guessing game.\\nYou got 7 chances to guess the number. Let's start the game\")\n",
        "\n",
        "number_to_guess = random.randrange(100)\n",
        "\n",
        "chances = 7\n",
        "\n",
        "guess_counter = 0\n",
        "\n",
        "while guess_counter < chances:\n",
        "\n",
        "    guess_counter += 1\n",
        "    my_guess = int(input('Please Enter your Guess : '))\n",
        "\n",
        "    if my_guess == number_to_guess:\n",
        "        print(f'The number is {number_to_guess} and you found it right !! in the {guess_counter} attempt')\n",
        "        break\n",
        "\n",
        "    elif guess_counter >= chances and my_guess != number_to_guess:\n",
        "        print(f'Oops sorry, The number is {number_to_guess} better luck next time')\n",
        "\n",
        "    elif my_guess > number_to_guess:\n",
        "        print('Your guess is higher ')\n",
        "\n",
        "    elif my_guess < number_to_guess:\n",
        "        print('Your guess is lesser')\n"
      ]
    }
  ]
}